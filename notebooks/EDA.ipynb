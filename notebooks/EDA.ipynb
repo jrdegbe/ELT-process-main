{
 "cells": [
  {
   "cell_type": "code",
   "execution_count": 1,
   "metadata": {},
   "outputs": [],
   "source": [
    "# imports\n",
    "import os\n",
    "import sys\n",
    "import dvc.api\n",
    "import pandas as pd\n",
    "import numpy as np\n",
    "import seaborn as sns\n",
    "import matplotlib.pyplot as plt\n",
    "import dataframe_image as dfi\n",
    "import warnings\n",
    "warnings.filterwarnings('ignore')"
   ]
  },
  {
   "cell_type": "code",
   "execution_count": 2,
   "metadata": {},
   "outputs": [
    {
     "name": "stdout",
     "output_type": "stream",
     "text": [
      "--> <Logger dataCleaner (WARNING)>\n",
      "logger <Logger dataCleaner (DEBUG)> created at path: ../logs/cleaner_root.log\n",
      "Data cleaner in action\n",
      "--> <Logger dataVisualizer (WARNING)>\n",
      "logger <Logger dataVisualizer (DEBUG)> created at path: ../logs/visualizer_root.log\n",
      "Data visualizer in action\n"
     ]
    }
   ],
   "source": [
    "# adding and setting up scripts\n",
    "sys.path.append('.')\n",
    "sys.path.append('..')\n",
    "sys.path.insert(1, '../scripts/')\n",
    "import defaults as defs\n",
    "import dataCleaner as dc\n",
    "import dataVisualizer as dv\n",
    "cleaner= dc.dataCleaner('EDA notebook')\n",
    "visualizer= dv.dataVisualizer('EDA notebook')"
   ]
  },
  {
   "cell_type": "code",
   "execution_count": 3,
   "metadata": {},
   "outputs": [
    {
     "name": "stdout",
     "output_type": "stream",
     "text": [
      "data path: /home/f0x-tr0t/Documents/dvc-store//f7/0eeb7e3a079eb3566cddf9267ccbe6\n"
     ]
    }
   ],
   "source": [
    "# pandas settings\n",
    "pd.set_option('display.max_columns', 30)\n",
    "\n",
    "# version of the data\n",
    "# v1: raw-data\n",
    "version= 'v1'\n",
    "\n",
    "# set up the data url\n",
    "data_url= dvc.api.get_url(path= defs.data_file,         # path to the data file\n",
    "\t\t                  repo= defs.repo,              # path to the repository\n",
    "\t\t                  rev= version)                 # version of the data\n",
    "\n",
    "# print the data path\n",
    "print(f'data path: {data_url}')"
   ]
  },
  {
   "cell_type": "code",
   "execution_count": 4,
   "metadata": {},
   "outputs": [],
   "source": [
    "#date = ['Date'] # the date column name\n",
    "missing_values = [\"n/a\", \"na\", \"undefined\", '?', 'NA', 'undefined']\n",
    "\n",
    "# read CSV \n",
    "df = pd.read_csv(data_url, na_values=missing_values)#, parse_dates=date)"
   ]
  },
  {
   "cell_type": "markdown",
   "metadata": {},
   "source": [
    "# EDA\n"
   ]
  },
  {
   "cell_type": "code",
   "execution_count": 5,
   "metadata": {},
   "outputs": [
    {
     "data": {
      "text/html": [
       "<div>\n",
       "<style scoped>\n",
       "    .dataframe tbody tr th:only-of-type {\n",
       "        vertical-align: middle;\n",
       "    }\n",
       "\n",
       "    .dataframe tbody tr th {\n",
       "        vertical-align: top;\n",
       "    }\n",
       "\n",
       "    .dataframe thead th {\n",
       "        text-align: right;\n",
       "    }\n",
       "</style>\n",
       "<table border=\"1\" class=\"dataframe\">\n",
       "  <thead>\n",
       "    <tr style=\"text-align: right;\">\n",
       "      <th></th>\n",
       "      <th>track_id; type; traveled_d; avg_speed; lat; lon; speed; lon_acc; lat_acc; time</th>\n",
       "    </tr>\n",
       "  </thead>\n",
       "  <tbody>\n",
       "    <tr>\n",
       "      <th>0</th>\n",
       "      <td>1; Car; 48.85; 9.770344; 37.977391; 23.737688;...</td>\n",
       "    </tr>\n",
       "    <tr>\n",
       "      <th>1</th>\n",
       "      <td>2; Motorcycle; 98.09; 19.839417; 37.977642; 23...</td>\n",
       "    </tr>\n",
       "    <tr>\n",
       "      <th>2</th>\n",
       "      <td>3; Motorcycle; 63.80; 18.228752; 37.977997; 23...</td>\n",
       "    </tr>\n",
       "    <tr>\n",
       "      <th>3</th>\n",
       "      <td>4; Motorcycle; 145.72; 26.229014; 37.978135; 2...</td>\n",
       "    </tr>\n",
       "    <tr>\n",
       "      <th>4</th>\n",
       "      <td>5; Motorcycle; 138.01; 24.841425; 37.978134; 2...</td>\n",
       "    </tr>\n",
       "    <tr>\n",
       "      <th>...</th>\n",
       "      <td>...</td>\n",
       "    </tr>\n",
       "    <tr>\n",
       "      <th>917</th>\n",
       "      <td>918; Car; 78.83; 30.846243; 37.980629; 23.7350...</td>\n",
       "    </tr>\n",
       "    <tr>\n",
       "      <th>918</th>\n",
       "      <td>919; Motorcycle; 19.50; 9.234518; 37.979327; 2...</td>\n",
       "    </tr>\n",
       "    <tr>\n",
       "      <th>919</th>\n",
       "      <td>920; Car; 48.97; 24.486209; 37.978413; 23.7355...</td>\n",
       "    </tr>\n",
       "    <tr>\n",
       "      <th>920</th>\n",
       "      <td>921; Motorcycle; 46.68; 30.007124; 37.980020; ...</td>\n",
       "    </tr>\n",
       "    <tr>\n",
       "      <th>921</th>\n",
       "      <td>922; Car; 35.00; 23.335533; 37.978428; 23.7355...</td>\n",
       "    </tr>\n",
       "  </tbody>\n",
       "</table>\n",
       "<p>922 rows × 1 columns</p>\n",
       "</div>"
      ],
      "text/plain": [
       "    track_id; type; traveled_d; avg_speed; lat; lon; speed; lon_acc; lat_acc; time\n",
       "0    1; Car; 48.85; 9.770344; 37.977391; 23.737688;...                            \n",
       "1    2; Motorcycle; 98.09; 19.839417; 37.977642; 23...                            \n",
       "2    3; Motorcycle; 63.80; 18.228752; 37.977997; 23...                            \n",
       "3    4; Motorcycle; 145.72; 26.229014; 37.978135; 2...                            \n",
       "4    5; Motorcycle; 138.01; 24.841425; 37.978134; 2...                            \n",
       "..                                                 ...                            \n",
       "917  918; Car; 78.83; 30.846243; 37.980629; 23.7350...                            \n",
       "918  919; Motorcycle; 19.50; 9.234518; 37.979327; 2...                            \n",
       "919  920; Car; 48.97; 24.486209; 37.978413; 23.7355...                            \n",
       "920  921; Motorcycle; 46.68; 30.007124; 37.980020; ...                            \n",
       "921  922; Car; 35.00; 23.335533; 37.978428; 23.7355...                            \n",
       "\n",
       "[922 rows x 1 columns]"
      ]
     },
     "execution_count": 5,
     "metadata": {},
     "output_type": "execute_result"
    }
   ],
   "source": [
    "df"
   ]
  },
  {
   "cell_type": "code",
   "execution_count": 6,
   "metadata": {},
   "outputs": [
    {
     "name": "stdout",
     "output_type": "stream",
     "text": [
      "(922, 1)\n",
      "Index(['track_id; type; traveled_d; avg_speed; lat; lon; speed; lon_acc; lat_acc; time'], dtype='object')\n"
     ]
    }
   ],
   "source": [
    "print(df.shape)\n",
    "print(df.columns)"
   ]
  },
  {
   "cell_type": "markdown",
   "metadata": {},
   "source": [
    "### dat preparation\n"
   ]
  },
  {
   "cell_type": "code",
   "execution_count": 7,
   "metadata": {},
   "outputs": [
    {
     "data": {
      "text/plain": [
       "['track_id',\n",
       " ' type',\n",
       " ' traveled_d',\n",
       " ' avg_speed',\n",
       " ' lat',\n",
       " ' lon',\n",
       " ' speed',\n",
       " ' lon_acc',\n",
       " ' lat_acc',\n",
       " ' time']"
      ]
     },
     "execution_count": 7,
     "metadata": {},
     "output_type": "execute_result"
    }
   ],
   "source": [
    "columns = df.columns[0].split(\";\")\n",
    "columns"
   ]
  },
  {
   "cell_type": "code",
   "execution_count": 8,
   "metadata": {},
   "outputs": [],
   "source": [
    "columns_ =[]\n",
    "for cols in columns:\n",
    "    columns_.append(str.strip(cols))\n",
    "columns = columns_"
   ]
  },
  {
   "cell_type": "code",
   "execution_count": 9,
   "metadata": {},
   "outputs": [
    {
     "data": {
      "text/plain": [
       "['track_id',\n",
       " 'type',\n",
       " 'traveled_d',\n",
       " 'avg_speed',\n",
       " 'lat',\n",
       " 'lon',\n",
       " 'speed',\n",
       " 'lon_acc',\n",
       " 'lat_acc',\n",
       " 'time']"
      ]
     },
     "execution_count": 9,
     "metadata": {},
     "output_type": "execute_result"
    }
   ],
   "source": [
    "columns"
   ]
  },
  {
   "cell_type": "markdown",
   "metadata": {},
   "source": [
    "As we can see there are 10 columns\n"
   ]
  },
  {
   "cell_type": "code",
   "execution_count": 10,
   "metadata": {},
   "outputs": [
    {
     "name": "stdout",
     "output_type": "stream",
     "text": [
      "922\n"
     ]
    }
   ],
   "source": [
    "# setting up lists for each column \n",
    "track_ids = []\n",
    "types = []\n",
    "traveled_d = []\n",
    "avg_speeds = []\n",
    "lat = []\n",
    "lon = []\n",
    "speed = []\n",
    "lon_acc = []\n",
    "lat_acc = []\n",
    "time = []\n",
    "\n",
    "trackings = []\n",
    "listOfRows = []\n",
    "\n",
    "for r in range(len(df)): \n",
    "    row = df.iloc[r,:][0].split(\";\")\n",
    "    listOfRows.append(row)\n",
    "    base_row = row[:10]\n",
    "    tracking_row = row[10:]\n",
    "    tracking = ','.join(tracking_row)\n",
    "    \n",
    "    track_ids.append(base_row[0])\n",
    "    types.append(base_row[1])\n",
    "    traveled_d.append(base_row[2])\n",
    "    avg_speeds.append(base_row[3])\n",
    "    lat.append(base_row[4])\n",
    "    lon.append(base_row[5])\n",
    "    speed.append(base_row[6])\n",
    "    lon_acc.append(base_row[7])\n",
    "    lat_acc.append(base_row[8])\n",
    "    time.append(base_row[9])\n",
    "    \n",
    "    trackings.append(tracking[1:])\n",
    "\n",
    "print(len(listOfRows))"
   ]
  },
  {
   "cell_type": "markdown",
   "metadata": {},
   "source": [
    "numeric descriptions\n"
   ]
  },
  {
   "cell_type": "code",
   "execution_count": 11,
   "metadata": {},
   "outputs": [
    {
     "name": "stdout",
     "output_type": "stream",
     "text": [
      "The total number of rows converted to a list: 922\n",
      "\n",
      "The shortest record of the data: 491\n",
      "Track id of the shortest record: 99\n",
      "\n",
      "The longest record of the data: 2711\n",
      "Track id of the longest record: 1\n"
     ]
    }
   ],
   "source": [
    "\n",
    "print(f'The total number of rows converted to a list: {len(listOfRows)}')\n",
    "\n",
    "print(f'\\nThe shortest record of the data: {len(max(listOfRows))}')\n",
    "print(f'Track id of the shortest record: {max(listOfRows)[0]}')\n",
    "\n",
    "print(f'\\nThe longest record of the data: {len(min(listOfRows))}')\n",
    "print(f'Track id of the longest record: {min(listOfRows)[0]}')"
   ]
  },
  {
   "cell_type": "markdown",
   "metadata": {},
   "source": [
    "Taking a look at one of the records - the shortest one\n"
   ]
  },
  {
   "cell_type": "code",
   "execution_count": 12,
   "metadata": {},
   "outputs": [
    {
     "name": "stdout",
     "output_type": "stream",
     "text": [
      "['99', ' Motorcycle', ' 19.93', ' 22.420906', ' 37.979417', ' 23.735770', ' 25.2510', ' -0.0270', ' -1.6248', ' 15.600000', ' 37.979417', ' 23.735767', ' 25.2546', ' 0.0044', ' -1.7534', ' 15.640000', ' 37.979417', ' 23.735763', ' 25.2612', ' 0.0253', ' -1.8818', ' 15.680000', ' 37.979416', ' 23.735760', ' 25.2695', ' 0.0377', ' -2.0081', ' 15.720000', ' 37.979416', ' 23.735757', ' 25.2794', ' 0.0575', ' -2.1328', ' 15.760000', ' 37.979415', ' 23.735754', ' 25.2918', ' 0.0834', ' -2.2569', ' 15.800000', ' 37.979415', ' 23.735751', ' 25.3075', ' 0.1146', ' -2.3811', ' 15.840000', ' 37.979415', ' 23.735748', ' 25.3247', ' 0.1176', ' -2.5050', ' 15.880000', ' 37.979414', ' 23.735744', ' 25.3411', ' 0.1155', ' -2.6261', ' 15.920000', ' 37.979414', ' 23.735741', ' 25.3591', ' 0.1483', ' -2.7438', ' 15.960000', ' 37.979413', ' 23.735738', ' 25.3831', ' 0.2115', ' -2.8586', ' 16.000000', ' 37.979413', ' 23.735735', ' 25.4171', ' 0.3016', ' -2.9711', ' 16.040000', ' 37.979412', ' 23.735732', ' 25.4624', ' 0.3874', ' -3.0778', ' 16.080000', ' 37.979412', ' 23.735729', ' 25.5164', ' 0.4472', ' -3.1693', ' 16.120000', ' 37.979411', ' 23.735726', ' 25.5857', ' 0.5176', ' -3.3645', ' 16.160000', ' 37.979410', ' 23.735723', ' 25.6648', ' 0.5816', ' -3.5404', ' 16.200000', ' 37.979410', ' 23.735720', ' 25.7530', ' 0.6457', ' -3.6975', ' 16.240000', ' 37.979409', ' 23.735717', ' 25.8529', ' 0.7430', ' -3.8363', ' 16.280000', ' 37.979408', ' 23.735714', ' 25.9673', ' 0.8468', ' -3.9563', ' 16.320000', ' 37.979407', ' 23.735711', ' 26.0938', ' 0.9102', ' -4.0573', ' 16.360000', ' 37.979406', ' 23.735708', ' 26.2260', ' 0.9268', ' -4.1394', ' 16.400000', ' 37.979405', ' 23.735705', ' 26.3570', ' 0.8936', ' -4.2023', ' 16.440000', ' 37.979404', ' 23.735702', ' 26.4850', ' 0.8840', ' -4.2472', ' 16.480000', ' 37.979403', ' 23.735699', ' 26.6133', ' 0.8982', ' -4.2751', ' 16.520000', ' 37.979401', ' 23.735696', ' 26.7407', ' 0.8719', ' -4.2860', ' 16.560000', ' 37.979400', ' 23.735693', ' 26.8615', ' 0.8052', ' -4.2788', ' 16.600000', ' 37.979399', ' 23.735690', ' 26.9690', ' 0.6885', ' -4.2530', ' 16.640000', ' 37.979397', ' 23.735687', ' 27.0615', ' 0.5955', ' -4.2091', ' 16.680000', ' 37.979395', ' 23.735685', ' 27.1423', ' 0.5263', ' -4.1483', ' 16.720000', ' 37.979394', ' 23.735682', ' 27.2102', ' 0.4169', ' -4.0715', ' 16.760000', ' 37.979392', ' 23.735679', ' 27.2595', ' 0.2670', ' -3.9794', ' 16.800000', ' 37.979390', ' 23.735676', ' 27.2836', ' 0.0671', ' -3.8719', ' 16.840000', ' 37.979388', ' 23.735674', ' 27.2793', ' -0.1274', ' -3.7488', ' 16.880000', ' 37.979386', ' 23.735671', ' 27.2488', ' -0.2982', ' -3.6109', ' 16.920000', ' 37.979384', ' 23.735669', ' 27.1938', ' -0.4662', ' -3.4589', ' 16.960000', ' 37.979382', ' 23.735666', ' 27.1137', ' -0.6472', ' -3.2947', ' 17.000000', ' 37.979380', ' 23.735663', ' 27.0043', ' -0.8747', ' -3.1188', ' 17.040000', ' 37.979378', ' 23.735661', ' 26.8584', ' -1.1518', ' -2.9320', ' 17.080000', ' 37.979376', ' 23.735659', ' 26.6714', ' -1.4473', ' -2.7376', ' 17.120000', ' 37.979374', ' 23.735656', ' 26.4438', ' -1.7150', ' -2.5399', ' 17.160000', ' 37.979372', ' 23.735654', ' 26.1813', ' -1.9328', ' -2.3492', ' 17.200000', ' 37.979370', ' 23.735652', ' 25.8898', ' -2.1166', ' -2.1683', ' 17.240000', ' 37.979367', ' 23.735649', ' 25.5709', ' -2.3144', ' -1.9970', ' 17.280000', ' 37.979365', ' 23.735647', ' 25.2223', ' -2.5285', ' -1.8351', ' 17.320000', ' 37.979363', ' 23.735645', ' 24.8426', ' -2.7454', ' -1.6820', ' 17.360000', ' 37.979361', ' 23.735643', ' 24.4335', ' -2.9381', ' -1.5382', ' 17.400000', ' 37.979359', ' 23.735641', ' 24.0017', ' -3.0599', ' -1.4040', ' 17.440000', ' 37.979357', ' 23.735639', ' 23.5543', ' -3.1552', ' -1.2797', ' 17.480000', ' 37.979355', ' 23.735637', ' 23.0950', ' -3.2242', ' -1.1651', ' 17.520000', ' 37.979354', ' 23.735636', ' 22.6256', ' -3.2960', ' -1.0593', ' 17.560000', ' 37.979352', ' 23.735634', ' 22.1456', ' -3.3706', ' -0.9611', ' 17.600000', ' 37.979350', ' 23.735632', ' 21.6600', ' -3.3742', ' -0.8706', ' 17.640000', ' 37.979348', ' 23.735631', ' 21.1758', ' -3.3514', ' -0.7882', ' 17.680000', ' 37.979347', ' 23.735629', ' 20.6967', ' -3.3020', ' -0.7142', ' 17.720000', ' 37.979345', ' 23.735628', ' 20.2246', ' -3.2554', ' -0.6479', ' 17.760000', ' 37.979344', ' 23.735626', ' 19.7590', ' -3.2116', ' -0.5884', ' 17.800000', ' 37.979342', ' 23.735625', ' 19.3048', ' -3.0969', ' -0.5352', ' 17.840000', ' 37.979341', ' 23.735624', ' 18.8690', ' -2.9557', ' -0.4888', ' 17.880000', ' 37.979339', ' 23.735622', ' 18.4555', ' -2.7882', ' -0.4491', ' 17.920000', ' 37.979338', ' 23.735621', ' 18.0672', ' -2.6052', ' -0.4156', ' 17.960000', ' 37.979336', ' 23.735620', ' 17.7050', ' -2.4250', ' -0.3870', ' 18.000000', ' 37.979335', ' 23.735619', ' 17.3719', ' -2.2013', ' -0.3630', ' 18.040000', ' 37.979334', ' 23.735618', ' 17.0735', ' -1.9429', ' -0.3436', ' 18.080000', ' 37.979332', ' 23.735616', ' 16.8123', ' -1.6854', ' -0.3282', ' 18.120000', ' 37.979331', ' 23.735615', ' 16.5877', ' -1.4344', ' -0.3159', ' 18.160000', ' 37.979330', ' 23.735614', ' 16.3965', ' -1.2213', ' -0.3034', ' 18.200000', ' 37.979329', ' 23.735613', ' 16.2318', ' -1.0652', ' -0.2897', ' 18.240000', ' 37.979327', ' 23.735612', ' 16.0888', ' -0.9215', ' -0.2750', ' 18.280000', ' 37.979326', ' 23.735611', ' 15.9641', ' -0.8392', ' -0.2707', ' 18.320000', ' 37.979325', ' 23.735610', ' 15.8484', ' -0.7311', ' -0.2666', ' 18.360000', ' 37.979324', ' 23.735609', ' 15.7459', ' -0.5912', ' -0.2623', ' 18.400000', ' 37.979322', ' 23.735608', ' 15.6579', ' -0.4706', ' -0.2580', ' 18.440000', ' 37.979321', ' 23.735607', ' 15.5816', ' -0.3718', ' -0.2535', ' 18.480000', ' 37.979320', ' 23.735606', ' 15.5136', ' -0.2980', ' -0.2487', ' 18.520000', ' 37.979319', ' 23.735605', ' 15.4544', ' -0.1928', ' -0.2434', ' 18.560000', ' 37.979317', ' 23.735604', ' 15.4090', ' -0.0511', ' -0.2378', ' 18.600000', ' 37.979316', ' 23.735603', ' 15.3788', ' 0.0662', ' -0.2319', ' 18.640000', ' 37.979315', ' 23.735602', ' 15.3603', ' 0.1549', ' -0.2257', ' 18.680000', ' 37.979313', ' 23.735600', ' 15.3492', ' 0.2098', ' -0.2188', ' 18.720000', ' 37.979312', ' 23.735599', ' 15.3458', ' 0.3039', ' -0.2114', ' 18.760000', ' 37.979311', ' 23.735598', ' 15.3568', ' 0.4459', ' -0.2035', ' 18.800000', ' ']\n"
     ]
    }
   ],
   "source": [
    "print(listOfRows[98])"
   ]
  },
  {
   "cell_type": "markdown",
   "metadata": {},
   "source": [
    "- Setting up the raw data into two tables\n",
    "\n",
    "- base data and paths and speed of the base data\n"
   ]
  },
  {
   "cell_type": "code",
   "execution_count": 13,
   "metadata": {},
   "outputs": [
    {
     "data": {
      "text/plain": [
       "['track_id',\n",
       " 'type',\n",
       " 'traveled_d',\n",
       " 'avg_speed',\n",
       " 'lat',\n",
       " 'lon',\n",
       " 'speed',\n",
       " 'lon_acc',\n",
       " 'lat_acc',\n",
       " 'time',\n",
       " 'trackings']"
      ]
     },
     "execution_count": 13,
     "metadata": {},
     "output_type": "execute_result"
    }
   ],
   "source": [
    "columns.append('trackings')\n",
    "columns"
   ]
  },
  {
   "cell_type": "code",
   "execution_count": 14,
   "metadata": {},
   "outputs": [],
   "source": [
    "base_data = {columns[0]:track_ids, columns[1]:types, columns[2]:traveled_d, columns[3]:avg_speeds, \n",
    "             'initial_'+columns[4]:lat, 'initial_'+columns[5]:lon, 'initial_'+columns[6]:speed, 'initial_'+columns[7]:lon_acc,\n",
    "             'initial_'+columns[8]:lat_acc, 'initial_'+columns[9]:time,\n",
    "             columns[10]:trackings}"
   ]
  },
  {
   "cell_type": "code",
   "execution_count": 15,
   "metadata": {},
   "outputs": [
    {
     "data": {
      "text/html": [
       "<div>\n",
       "<style scoped>\n",
       "    .dataframe tbody tr th:only-of-type {\n",
       "        vertical-align: middle;\n",
       "    }\n",
       "\n",
       "    .dataframe tbody tr th {\n",
       "        vertical-align: top;\n",
       "    }\n",
       "\n",
       "    .dataframe thead th {\n",
       "        text-align: right;\n",
       "    }\n",
       "</style>\n",
       "<table border=\"1\" class=\"dataframe\">\n",
       "  <thead>\n",
       "    <tr style=\"text-align: right;\">\n",
       "      <th></th>\n",
       "      <th>track_id</th>\n",
       "      <th>type</th>\n",
       "      <th>traveled_d</th>\n",
       "      <th>avg_speed</th>\n",
       "      <th>initial_lat</th>\n",
       "      <th>initial_lon</th>\n",
       "      <th>initial_speed</th>\n",
       "      <th>initial_lon_acc</th>\n",
       "      <th>initial_lat_acc</th>\n",
       "      <th>initial_time</th>\n",
       "      <th>trackings</th>\n",
       "    </tr>\n",
       "  </thead>\n",
       "  <tbody>\n",
       "    <tr>\n",
       "      <th>0</th>\n",
       "      <td>1</td>\n",
       "      <td>Car</td>\n",
       "      <td>48.85</td>\n",
       "      <td>9.770344</td>\n",
       "      <td>37.977391</td>\n",
       "      <td>23.737688</td>\n",
       "      <td>4.9178</td>\n",
       "      <td>0.0518</td>\n",
       "      <td>-0.0299</td>\n",
       "      <td>0.000000</td>\n",
       "      <td>37.977391, 23.737688, 4.9207, -0.0124, -0.0354...</td>\n",
       "    </tr>\n",
       "    <tr>\n",
       "      <th>1</th>\n",
       "      <td>2</td>\n",
       "      <td>Motorcycle</td>\n",
       "      <td>98.09</td>\n",
       "      <td>19.839417</td>\n",
       "      <td>37.977642</td>\n",
       "      <td>23.737400</td>\n",
       "      <td>16.9759</td>\n",
       "      <td>-0.0361</td>\n",
       "      <td>-0.0228</td>\n",
       "      <td>0.000000</td>\n",
       "      <td>37.977642, 23.737402, 16.9739, 0.0087, -0.0262...</td>\n",
       "    </tr>\n",
       "    <tr>\n",
       "      <th>2</th>\n",
       "      <td>3</td>\n",
       "      <td>Motorcycle</td>\n",
       "      <td>63.80</td>\n",
       "      <td>18.228752</td>\n",
       "      <td>37.977997</td>\n",
       "      <td>23.737264</td>\n",
       "      <td>20.1906</td>\n",
       "      <td>-0.0795</td>\n",
       "      <td>-0.3395</td>\n",
       "      <td>0.000000</td>\n",
       "      <td>37.977995, 23.737265, 20.1862, 0.0191, -0.3887...</td>\n",
       "    </tr>\n",
       "    <tr>\n",
       "      <th>3</th>\n",
       "      <td>4</td>\n",
       "      <td>Motorcycle</td>\n",
       "      <td>145.72</td>\n",
       "      <td>26.229014</td>\n",
       "      <td>37.978135</td>\n",
       "      <td>23.737072</td>\n",
       "      <td>2.7555</td>\n",
       "      <td>-0.0302</td>\n",
       "      <td>0.0948</td>\n",
       "      <td>0.000000</td>\n",
       "      <td>37.978135, 23.737072, 2.7538, 0.0072, 0.1052, ...</td>\n",
       "    </tr>\n",
       "    <tr>\n",
       "      <th>4</th>\n",
       "      <td>5</td>\n",
       "      <td>Motorcycle</td>\n",
       "      <td>138.01</td>\n",
       "      <td>24.841425</td>\n",
       "      <td>37.978134</td>\n",
       "      <td>23.737103</td>\n",
       "      <td>0.0000</td>\n",
       "      <td>0.0000</td>\n",
       "      <td>0.0000</td>\n",
       "      <td>0.000000</td>\n",
       "      <td>37.978134, 23.737103, 0.0000, 0.0000, 0.0000, ...</td>\n",
       "    </tr>\n",
       "    <tr>\n",
       "      <th>5</th>\n",
       "      <td>6</td>\n",
       "      <td>Medium Vehicle</td>\n",
       "      <td>159.97</td>\n",
       "      <td>17.451502</td>\n",
       "      <td>37.978152</td>\n",
       "      <td>23.737120</td>\n",
       "      <td>0.0000</td>\n",
       "      <td>0.0000</td>\n",
       "      <td>0.0000</td>\n",
       "      <td>0.000000</td>\n",
       "      <td>37.978152, 23.737120, 0.0000, 0.0000, 0.0000, ...</td>\n",
       "    </tr>\n",
       "    <tr>\n",
       "      <th>6</th>\n",
       "      <td>7</td>\n",
       "      <td>Motorcycle</td>\n",
       "      <td>153.91</td>\n",
       "      <td>22.895895</td>\n",
       "      <td>37.978145</td>\n",
       "      <td>23.737161</td>\n",
       "      <td>0.0000</td>\n",
       "      <td>0.0000</td>\n",
       "      <td>0.0000</td>\n",
       "      <td>0.000000</td>\n",
       "      <td>37.978145, 23.737161, 0.0000, 0.0000, 0.0000, ...</td>\n",
       "    </tr>\n",
       "    <tr>\n",
       "      <th>7</th>\n",
       "      <td>8</td>\n",
       "      <td>Car</td>\n",
       "      <td>158.21</td>\n",
       "      <td>21.739084</td>\n",
       "      <td>37.978230</td>\n",
       "      <td>23.737089</td>\n",
       "      <td>0.0000</td>\n",
       "      <td>0.0000</td>\n",
       "      <td>0.0000</td>\n",
       "      <td>0.000000</td>\n",
       "      <td>37.978230, 23.737089, 0.0000, 0.0000, 0.0000, ...</td>\n",
       "    </tr>\n",
       "    <tr>\n",
       "      <th>8</th>\n",
       "      <td>9</td>\n",
       "      <td>Car</td>\n",
       "      <td>161.01</td>\n",
       "      <td>21.154471</td>\n",
       "      <td>37.978185</td>\n",
       "      <td>23.737128</td>\n",
       "      <td>0.0000</td>\n",
       "      <td>0.0000</td>\n",
       "      <td>0.0000</td>\n",
       "      <td>0.000000</td>\n",
       "      <td>37.978185, 23.737128, 0.0000, 0.0000, 0.0000, ...</td>\n",
       "    </tr>\n",
       "    <tr>\n",
       "      <th>9</th>\n",
       "      <td>10</td>\n",
       "      <td>Car</td>\n",
       "      <td>159.53</td>\n",
       "      <td>18.891989</td>\n",
       "      <td>37.978190</td>\n",
       "      <td>23.737050</td>\n",
       "      <td>4.0538</td>\n",
       "      <td>0.1084</td>\n",
       "      <td>-0.0000</td>\n",
       "      <td>0.000000</td>\n",
       "      <td>37.978190, 23.737051, 4.0597, -0.0259, 0.0000,...</td>\n",
       "    </tr>\n",
       "  </tbody>\n",
       "</table>\n",
       "</div>"
      ],
      "text/plain": [
       "  track_id             type traveled_d   avg_speed initial_lat initial_lon  \\\n",
       "0        1              Car      48.85    9.770344   37.977391   23.737688   \n",
       "1        2       Motorcycle      98.09   19.839417   37.977642   23.737400   \n",
       "2        3       Motorcycle      63.80   18.228752   37.977997   23.737264   \n",
       "3        4       Motorcycle     145.72   26.229014   37.978135   23.737072   \n",
       "4        5       Motorcycle     138.01   24.841425   37.978134   23.737103   \n",
       "5        6   Medium Vehicle     159.97   17.451502   37.978152   23.737120   \n",
       "6        7       Motorcycle     153.91   22.895895   37.978145   23.737161   \n",
       "7        8              Car     158.21   21.739084   37.978230   23.737089   \n",
       "8        9              Car     161.01   21.154471   37.978185   23.737128   \n",
       "9       10              Car     159.53   18.891989   37.978190   23.737050   \n",
       "\n",
       "  initial_speed initial_lon_acc initial_lat_acc initial_time  \\\n",
       "0        4.9178          0.0518         -0.0299     0.000000   \n",
       "1       16.9759         -0.0361         -0.0228     0.000000   \n",
       "2       20.1906         -0.0795         -0.3395     0.000000   \n",
       "3        2.7555         -0.0302          0.0948     0.000000   \n",
       "4        0.0000          0.0000          0.0000     0.000000   \n",
       "5        0.0000          0.0000          0.0000     0.000000   \n",
       "6        0.0000          0.0000          0.0000     0.000000   \n",
       "7        0.0000          0.0000          0.0000     0.000000   \n",
       "8        0.0000          0.0000          0.0000     0.000000   \n",
       "9        4.0538          0.1084         -0.0000     0.000000   \n",
       "\n",
       "                                           trackings  \n",
       "0  37.977391, 23.737688, 4.9207, -0.0124, -0.0354...  \n",
       "1  37.977642, 23.737402, 16.9739, 0.0087, -0.0262...  \n",
       "2  37.977995, 23.737265, 20.1862, 0.0191, -0.3887...  \n",
       "3  37.978135, 23.737072, 2.7538, 0.0072, 0.1052, ...  \n",
       "4  37.978134, 23.737103, 0.0000, 0.0000, 0.0000, ...  \n",
       "5  37.978152, 23.737120, 0.0000, 0.0000, 0.0000, ...  \n",
       "6  37.978145, 23.737161, 0.0000, 0.0000, 0.0000, ...  \n",
       "7  37.978230, 23.737089, 0.0000, 0.0000, 0.0000, ...  \n",
       "8  37.978185, 23.737128, 0.0000, 0.0000, 0.0000, ...  \n",
       "9  37.978190, 23.737051, 4.0597, -0.0259, 0.0000,...  "
      ]
     },
     "execution_count": 15,
     "metadata": {},
     "output_type": "execute_result"
    }
   ],
   "source": [
    "new_df = pd.DataFrame(base_data)\n",
    "new_df.head(10)"
   ]
  },
  {
   "cell_type": "markdown",
   "metadata": {},
   "source": [
    "null checks\n"
   ]
  },
  {
   "cell_type": "code",
   "execution_count": 16,
   "metadata": {},
   "outputs": [
    {
     "data": {
      "text/plain": [
       "track_id           0\n",
       "type               0\n",
       "traveled_d         0\n",
       "avg_speed          0\n",
       "initial_lat        0\n",
       "initial_lon        0\n",
       "initial_speed      0\n",
       "initial_lon_acc    0\n",
       "initial_lat_acc    0\n",
       "initial_time       0\n",
       "trackings          0\n",
       "dtype: int64"
      ]
     },
     "execution_count": 16,
     "metadata": {},
     "output_type": "execute_result"
    }
   ],
   "source": [
    "new_df.isna().sum()"
   ]
  },
  {
   "cell_type": "markdown",
   "metadata": {},
   "source": [
    "the data contains no nulls and can be further transformed and analyzed\n"
   ]
  },
  {
   "cell_type": "code",
   "execution_count": 17,
   "metadata": {},
   "outputs": [
    {
     "data": {
      "text/plain": [
       " Car               426\n",
       " Motorcycle        251\n",
       " Taxi              176\n",
       " Medium Vehicle     26\n",
       " Bus                23\n",
       " Heavy Vehicle      20\n",
       "Name: type, dtype: int64"
      ]
     },
     "execution_count": 17,
     "metadata": {},
     "output_type": "execute_result"
    }
   ],
   "source": [
    "new_df['type'].value_counts()"
   ]
  },
  {
   "cell_type": "markdown",
   "metadata": {},
   "source": [
    "There are 6 types of vehicles that are being tracked\n"
   ]
  }
 ],
 "metadata": {
  "kernelspec": {
   "display_name": "Python 3.10.4 ('airflow')",
   "language": "python",
   "name": "python3"
  },
  "language_info": {
   "codemirror_mode": {
    "name": "ipython",
    "version": 3
   },
   "file_extension": ".py",
   "mimetype": "text/x-python",
   "name": "python",
   "nbconvert_exporter": "python",
   "pygments_lexer": "ipython3",
   "version": "3.10.6"
  },
  "orig_nbformat": 4,
  "vscode": {
   "interpreter": {
    "hash": "e693b882a7970095604b85d7db7b4da9ace217b9cdcd98b0f7737d83a11c9fa2"
   }
  }
 },
 "nbformat": 4,
 "nbformat_minor": 2
}
